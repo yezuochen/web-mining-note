{
 "cells": [
  {
   "cell_type": "code",
   "execution_count": 1,
   "metadata": {
    "_uuid": "18e73f61d4e40d59db0c0b1ecea56dc22d18e013"
   },
   "outputs": [],
   "source": [
    "from __future__ import print_function\n",
    "import numpy as np\n",
    "import keras\n",
    "from keras.models import Sequential\n",
    "from keras.layers import Dense, Dropout, Flatten, Activation\n",
    "from keras.layers import Conv2D, MaxPooling2D\n",
    "from keras import backend as K\n",
    "from tensorflow.keras.layers import BatchNormalization\n",
    "import matplotlib.pyplot as plt\n",
    "%matplotlib inline"
   ]
  },
  {
   "cell_type": "code",
   "execution_count": 2,
   "metadata": {},
   "outputs": [],
   "source": [
    "losses = []"
   ]
  },
  {
   "cell_type": "code",
   "execution_count": 3,
   "metadata": {
    "_uuid": "4bbbe1bb5e72e9458e05590cd7719ff15af363a7"
   },
   "outputs": [],
   "source": [
    "def loadImageFile(fileimage):\n",
    "    f = open(fileimage, \"rb\")\n",
    "\n",
    "    f.read(16)\n",
    "    pixels = 28*28\n",
    "    images_arr = []\n",
    "    \n",
    "    while True:\n",
    "        try:\n",
    "            img = []\n",
    "            for j in range(pixels):\n",
    "                pix = ord(f.read(1))\n",
    "                img.append(pix / 255)\n",
    "            images_arr.append(img)\n",
    "        except:\n",
    "            break\n",
    "\n",
    "    f.close()\n",
    "    image_sets = np.array(images_arr)\n",
    "    return image_sets"
   ]
  },
  {
   "cell_type": "code",
   "execution_count": 4,
   "metadata": {
    "_uuid": "c17196edfad2d9a8ce2f9be66e80496c209d18b7"
   },
   "outputs": [],
   "source": [
    "def loadLabelFile(filelabel):\n",
    "    f = open(filelabel, \"rb\")\n",
    "    f.read(8)\n",
    "\n",
    "    labels_arr = []\n",
    "\n",
    "    while True:\n",
    "        row = [0 for x in range(10)]\n",
    "        try:\n",
    "            label = ord(f.read(1))\n",
    "            row[label] = 1\n",
    "            labels_arr.append(row)\n",
    "        except:\n",
    "            break\n",
    "\n",
    "    f.close()\n",
    "    label_sets = np.array(labels_arr)\n",
    "    return label_sets"
   ]
  },
  {
   "cell_type": "code",
   "execution_count": 5,
   "metadata": {
    "_uuid": "09d093fb40e3d050a45ed7a582ed86f53fb97712"
   },
   "outputs": [],
   "source": [
    "train_images = loadImageFile(\"../minist/train-images-idx3-ubyte/train-images-idx3-ubyte\")\n",
    "train_labels = loadLabelFile(\"../minist/train-labels-idx1-ubyte/train-labels-idx1-ubyte\")"
   ]
  },
  {
   "cell_type": "code",
   "execution_count": 6,
   "metadata": {
    "_uuid": "b11530b8eb21880e3a1efe87ee5f895b1c63ac6c"
   },
   "outputs": [],
   "source": [
    "test_images = loadImageFile(\"../minist/t10k-images-idx3-ubyte/t10k-images-idx3-ubyte\")\n",
    "test_labels = loadLabelFile(\"../minist/t10k-labels-idx1-ubyte/t10k-labels-idx1-ubyte\")"
   ]
  },
  {
   "cell_type": "code",
   "execution_count": 7,
   "metadata": {},
   "outputs": [
    {
     "data": {
      "text/plain": [
       "((60000, 784), (10000, 784))"
      ]
     },
     "execution_count": 7,
     "metadata": {},
     "output_type": "execute_result"
    }
   ],
   "source": [
    "train_images.shape, test_images.shape"
   ]
  },
  {
   "cell_type": "code",
   "execution_count": 19,
   "metadata": {},
   "outputs": [],
   "source": [
    "def gen_image(arr):\n",
    "    two_d = (np.reshape(arr, (28, 28)) * 255).astype(np.uint8)\n",
    "    plt.imshow(two_d, interpolation='nearest', cmap='gray')\n",
    "    plt.show()\n",
    "    return"
   ]
  },
  {
   "cell_type": "code",
   "execution_count": 20,
   "metadata": {},
   "outputs": [
    {
     "data": {
      "image/png": "[encoded data removed]",
      "text/plain": [
       "<Figure size 640x480 with 1 Axes>"
      ]
     },
     "metadata": {},
     "output_type": "display_data"
    }
   ],
   "source": [
    "gen_image(train_images[0])"
   ]
  },
  {
   "cell_type": "code",
   "execution_count": 8,
   "metadata": {
    "_uuid": "ec284103fd067fe6a284bf767f3d446ba5891242"
   },
   "outputs": [],
   "source": [
    "x_train = train_images.reshape(train_images.shape[0], 28, 28, 1)\n",
    "x_test = test_images.reshape(test_images.shape[0], 28, 28, 1)\n",
    "\n",
    "y_train = train_labels\n",
    "y_test = test_labels"
   ]
  },
  {
   "cell_type": "code",
   "execution_count": 9,
   "metadata": {
    "_uuid": "1461a5ae3b172ff0558cf4d529a1f3c1544e4093"
   },
   "outputs": [],
   "source": [
    "# create a sequenceial neural network model in keras\n",
    "model = Sequential()"
   ]
  },
  {
   "cell_type": "code",
   "execution_count": 15,
   "metadata": {
    "_uuid": "68d7d0522e3d08262c626e8ac40a90386a6735f1"
   },
   "outputs": [],
   "source": [
    "# add a two-dimensional convolutional neuraon layer\n",
    "model.add(Conv2D(32, (3, 3), input_shape=(28,28,1)))\n",
    "\n",
    "# activative function\n",
    "model.add(Activation('relu'))\n",
    "\n",
    "# batch normalization\n",
    "BatchNormalization(axis=-1)\n",
    "\n",
    "# add more hidden layers\n",
    "model.add(Conv2D(32, (3, 3)))\n",
    "model.add(Activation('relu'))\n",
    "model.add(MaxPooling2D(pool_size=(2,2)))"
   ]
  },
  {
   "cell_type": "code",
   "execution_count": 16,
   "metadata": {
    "_uuid": "8026bdf095bedcd7249edb1149ccf0005ae4d71c"
   },
   "outputs": [],
   "source": [
    "BatchNormalization(axis=-1)\n",
    "\n",
    "model.add(Conv2D(64,(3, 3)))\n",
    "model.add(Activation('relu'))\n",
    "\n",
    "BatchNormalization(axis=-1)\n",
    "\n",
    "model.add(Conv2D(64, (3, 3)))\n",
    "model.add(Activation('relu'))\n",
    "model.add(MaxPooling2D(pool_size=(2,2)))\n",
    "\n",
    "# Fully connected layer\n",
    "model.add(Flatten())\n",
    "\n",
    "BatchNormalization()\n",
    "model.add(Dense(512))\n",
    "model.add(Activation('relu'))\n",
    "BatchNormalization()\n",
    "model.add(Dropout(0.2))\n",
    "\n",
    "# output of 10 values at the last layer, in the form of one-hot encoding\n",
    "model.add(Dense(10))\n",
    "\n",
    "# convert 10 floating point values to a one-hot encoding\n",
    "model.add(Activation('softmax'))"
   ]
  },
  {
   "cell_type": "code",
   "execution_count": 22,
   "metadata": {},
   "outputs": [
    {
     "name": "stdout",
     "output_type": "stream",
     "text": [
      "Model: \"sequential\"\n",
      "_________________________________________________________________\n",
      " Layer (type)                Output Shape              Param #   \n",
      "=================================================================\n",
      " conv2d (Conv2D)             (None, 26, 26, 32)        320       \n",
      "                                                                 \n",
      " activation (Activation)     (None, 26, 26, 32)        0         \n",
      "                                                                 \n",
      " conv2d_1 (Conv2D)           (None, 24, 24, 32)        9248      \n",
      "                                                                 \n",
      " activation_1 (Activation)   (None, 24, 24, 32)        0         \n",
      "                                                                 \n",
      " max_pooling2d (MaxPooling2  (None, 12, 12, 32)        0         \n",
      " D)                                                              \n",
      "                                                                 \n",
      " conv2d_2 (Conv2D)           (None, 10, 10, 64)        18496     \n",
      "                                                                 \n",
      " activation_2 (Activation)   (None, 10, 10, 64)        0         \n",
      "                                                                 \n",
      " conv2d_3 (Conv2D)           (None, 8, 8, 64)          36928     \n",
      "                                                                 \n",
      " activation_3 (Activation)   (None, 8, 8, 64)          0         \n",
      "                                                                 \n",
      " max_pooling2d_1 (MaxPoolin  (None, 4, 4, 64)          0         \n",
      " g2D)                                                            \n",
      "                                                                 \n",
      " flatten (Flatten)           (None, 1024)              0         \n",
      "                                                                 \n",
      " dense (Dense)               (None, 512)               524800    \n",
      "                                                                 \n",
      " activation_4 (Activation)   (None, 512)               0         \n",
      "                                                                 \n",
      " dropout (Dropout)           (None, 512)               0         \n",
      "                                                                 \n",
      " dense_1 (Dense)             (None, 10)                5130      \n",
      "                                                                 \n",
      " activation_5 (Activation)   (None, 10)                0         \n",
      "                                                                 \n",
      "=================================================================\n",
      "Total params: 594922 (2.27 MB)\n",
      "Trainable params: 594922 (2.27 MB)\n",
      "Non-trainable params: 0 (0.00 Byte)\n",
      "_________________________________________________________________\n"
     ]
    }
   ],
   "source": [
    "model.summary()"
   ]
  },
  {
   "cell_type": "code",
   "execution_count": 21,
   "metadata": {
    "_uuid": "31a30bb3b861477e9a19446bf31c69999f4aff94"
   },
   "outputs": [],
   "source": [
    "# compile and train keras NN\n",
    "model.compile(loss=keras.losses.categorical_crossentropy,\n",
    "              optimizer=keras.optimizers.Adam(),\n",
    "              metrics=['accuracy'])"
   ]
  },
  {
   "cell_type": "code",
   "execution_count": 23,
   "metadata": {
    "_uuid": "8d0b56afd339355b60540d180bc980dfdcd9cfa6",
    "scrolled": true
   },
   "outputs": [
    {
     "name": "stdout",
     "output_type": "stream",
     "text": [
      "Epoch 1/10\n",
      "480/480 - 53s - loss: 0.1755 - accuracy: 0.9458 - val_loss: 0.0466 - val_accuracy: 0.9870 - 53s/epoch - 110ms/step\n",
      "Epoch 2/10\n",
      "480/480 - 48s - loss: 0.0467 - accuracy: 0.9854 - val_loss: 0.0393 - val_accuracy: 0.9883 - 48s/epoch - 99ms/step\n",
      "Epoch 3/10\n",
      "480/480 - 47s - loss: 0.0316 - accuracy: 0.9896 - val_loss: 0.0353 - val_accuracy: 0.9893 - 47s/epoch - 99ms/step\n",
      "Epoch 4/10\n",
      "480/480 - 49s - loss: 0.0222 - accuracy: 0.9930 - val_loss: 0.0297 - val_accuracy: 0.9918 - 49s/epoch - 103ms/step\n",
      "Epoch 5/10\n",
      "480/480 - 47s - loss: 0.0183 - accuracy: 0.9941 - val_loss: 0.0321 - val_accuracy: 0.9908 - 47s/epoch - 98ms/step\n",
      "Epoch 6/10\n",
      "480/480 - 55s - loss: 0.0156 - accuracy: 0.9945 - val_loss: 0.0300 - val_accuracy: 0.9923 - 55s/epoch - 114ms/step\n",
      "Epoch 7/10\n",
      "480/480 - 53s - loss: 0.0123 - accuracy: 0.9958 - val_loss: 0.0380 - val_accuracy: 0.9897 - 53s/epoch - 110ms/step\n",
      "Epoch 8/10\n",
      "480/480 - 71s - loss: 0.0105 - accuracy: 0.9967 - val_loss: 0.0349 - val_accuracy: 0.9912 - 71s/epoch - 149ms/step\n",
      "Epoch 9/10\n",
      "480/480 - 67s - loss: 0.0089 - accuracy: 0.9968 - val_loss: 0.0437 - val_accuracy: 0.9908 - 67s/epoch - 139ms/step\n",
      "Epoch 10/10\n",
      "480/480 - 71s - loss: 0.0097 - accuracy: 0.9967 - val_loss: 0.0386 - val_accuracy: 0.9911 - 71s/epoch - 147ms/step\n"
     ]
    },
    {
     "data": {
      "text/plain": [
       "<keras.src.callbacks.History at 0x20bc1fd8bd0>"
      ]
     },
     "execution_count": 23,
     "metadata": {},
     "output_type": "execute_result"
    }
   ],
   "source": [
    "model.fit(x_train, y_train,\n",
    "          batch_size=100,\n",
    "          epochs=10,\n",
    "          verbose=2,\n",
    "          validation_split=0.2)"
   ]
  },
  {
   "cell_type": "code",
   "execution_count": 24,
   "metadata": {},
   "outputs": [
    {
     "name": "stdout",
     "output_type": "stream",
     "text": [
      "313/313 [==============================] - 4s 12ms/step - loss: 0.0355 - accuracy: 0.9903\n",
      "Test loss: 0.03552393615245819\n",
      "Test accuracy: 0.9902999997138977\n"
     ]
    }
   ],
   "source": [
    "# evaluate its accuracy\n",
    "score = model.evaluate(x_test, y_test, verbose=1)\n",
    "\n",
    "print('Test loss:', score[0])\n",
    "print('Test accuracy:', score[1])"
   ]
  },
  {
   "cell_type": "code",
   "execution_count": 25,
   "metadata": {},
   "outputs": [
    {
     "data": {
      "text/plain": [
       "'c:\\\\Users\\\\zuoch\\\\OneDrive\\\\Desktop\\\\Web Concepts and Technologies\\\\Hands-On-Python-Deep-Learning-for-Web-master\\\\Chapter3\\\\model'"
      ]
     },
     "execution_count": 25,
     "metadata": {},
     "output_type": "execute_result"
    }
   ],
   "source": [
    "import os\n",
    "os.getcwd()"
   ]
  },
  {
   "cell_type": "code",
   "execution_count": 36,
   "metadata": {},
   "outputs": [],
   "source": [
    "path = 'c:\\\\Users\\\\zuoch\\\\OneDrive\\\\Desktop\\\\Web Concepts and Technologies\\\\Hands-On-Python-Deep-Learning-for-Web-master\\\\Chapter3'\n",
    "os.chdir(path)"
   ]
  },
  {
   "cell_type": "code",
   "execution_count": 37,
   "metadata": {
    "_uuid": "15f1b5e992bdaa163c6764e92b33f9596640081a"
   },
   "outputs": [
    {
     "name": "stderr",
     "output_type": "stream",
     "text": [
      "c:\\Users\\zuoch\\AppData\\Local\\Programs\\Python\\Python311\\Lib\\site-packages\\keras\\src\\engine\\training.py:3000: UserWarning: You are saving your model as an HDF5 file via `model.save()`. This file format is considered legacy. We recommend using instead the native Keras format, e.g. `model.save('my_model.keras')`.\n",
      "  saving_api.save_model(\n"
     ]
    }
   ],
   "source": [
    "# save the model, make predictions for user input through the web portal\n",
    "# split model into model sturcture and model weights\n",
    "\n",
    "os.mkdir(\"output\")\n",
    "model.save(\"output/model.h5\")\n",
    "model.save_weights(\"output/weights.h5\")"
   ]
  },
  {
   "cell_type": "code",
   "execution_count": 38,
   "metadata": {
    "_uuid": "3256139cde690795d5c60d340a79354360ca4032"
   },
   "outputs": [],
   "source": [
    "model_json = model.to_json()\n",
    "with open(\"output/model.json\", \"w\") as json_file:\n",
    "    json_file.write(model_json)"
   ]
  }
 ],
 "metadata": {
  "kernelspec": {
   "display_name": "Python 3",
   "language": "python",
   "name": "python3"
  },
  "language_info": {
   "codemirror_mode": {
    "name": "ipython",
    "version": 3
   },
   "file_extension": ".py",
   "mimetype": "text/x-python",
   "name": "python",
   "nbconvert_exporter": "python",
   "pygments_lexer": "ipython3",
   "version": "3.11.5"
  }
 },
 "nbformat": 4,
 "nbformat_minor": 1
}
